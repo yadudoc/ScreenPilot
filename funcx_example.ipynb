{
 "cells": [
  {
   "cell_type": "code",
   "execution_count": 1,
   "metadata": {},
   "outputs": [
    {
     "name": "stdout",
     "output_type": "stream",
     "text": [
      "https://funcx.org/api/v1\n"
     ]
    }
   ],
   "source": [
    "from funcx.sdk.client import FuncXClient\n",
    "\n",
    "fxc = FuncXClient()\n",
    "print(fxc.base_url)"
   ]
  },
  {
   "cell_type": "code",
   "execution_count": 30,
   "metadata": {},
   "outputs": [],
   "source": [
    "def funcx_runner(filename, index, batchsize, index_start, index_end, workdir=None, out_file=None):\n",
    "    from candle_apps.candle_node_local import funcx_node_local\n",
    "    return funcx_node_local(filename, index, batchsize, index_start, index_end,\n",
    "                            workdir=workdir, out_file=out_file)"
   ]
  },
  {
   "cell_type": "code",
   "execution_count": 31,
   "metadata": {},
   "outputs": [
    {
     "name": "stdout",
     "output_type": "stream",
     "text": [
      "128bf69f-2c1d-48db-a6b5-284aacd6323d\n"
     ]
    }
   ],
   "source": [
    "func_uuid = fxc.register_function(funcx_runner,\n",
    "                             description=\"A funcx function for covid19\")\n",
    "\n",
    "print(func_uuid)"
   ]
  },
  {
   "cell_type": "code",
   "execution_count": 59,
   "metadata": {},
   "outputs": [
    {
     "name": "stdout",
     "output_type": "stream",
     "text": [
      "51a63afc-6259-49f8-a914-c5c49335af91\n"
     ]
    }
   ],
   "source": [
    "endpoint_uuid = '709118de-1103-463f-8425-281eb93b55ff' #Theta covid19\n",
    "\n",
    "res = fxc.run(filename='/home/zzli/candle/ScreenPilot/ena+db.can',\n",
    "               index=80,\n",
    "               batchsize=10,\n",
    "               index_start=0,\n",
    "               index_end=1000,\n",
    "               workdir='/tmp/zzli/',\n",
    "               out_file='/home/zzli/candle/ScreenPilot/data',\n",
    "               endpoint_id=endpoint_uuid,\n",
    "               function_id=func_uuid)\n",
    "\n",
    "print(res)"
   ]
  },
  {
   "cell_type": "code",
   "execution_count": 60,
   "metadata": {},
   "outputs": [
    {
     "data": {
      "text/plain": [
       "'/home/zzli/candle/ScreenPilot/data'"
      ]
     },
     "execution_count": 60,
     "metadata": {},
     "output_type": "execute_result"
    }
   ],
   "source": [
    "fxc.get_result(res)"
   ]
  },
  {
   "cell_type": "code",
   "execution_count": null,
   "metadata": {},
   "outputs": [],
   "source": []
  }
 ],
 "metadata": {
  "kernelspec": {
   "display_name": "candle_py3.7",
   "language": "python",
   "name": "candle_py3.7"
  },
  "language_info": {
   "codemirror_mode": {
    "name": "ipython",
    "version": 3
   },
   "file_extension": ".py",
   "mimetype": "text/x-python",
   "name": "python",
   "nbconvert_exporter": "python",
   "pygments_lexer": "ipython3",
   "version": "3.7.6"
  }
 },
 "nbformat": 4,
 "nbformat_minor": 2
}
