{
 "cells": [
  {
   "cell_type": "code",
   "execution_count": 133,
   "metadata": {},
   "outputs": [
    {
     "name": "stdout",
     "output_type": "stream",
     "text": [
      "https://funcx.org/api/v1 False\n"
     ]
    }
   ],
   "source": [
    "from funcx.sdk.client import FuncXClient\n",
    "import time\n",
    "\n",
    "\n",
    "fxc = FuncXClient()\n",
    "fxc.throttling_enabled = False\n",
    "print(fxc.base_url, fxc.throttling_enabled)"
   ]
  },
  {
   "cell_type": "code",
   "execution_count": 143,
   "metadata": {},
   "outputs": [],
   "source": [
    "endpoint_uuid = '709118de-1103-463f-8425-281eb93b55ff' #Theta covid19\n",
    "#endpoint_uuid = '67e95158-8bda-4b1f-a0ef-31a1626eba00' #Ryan ep"
   ]
  },
  {
   "cell_type": "code",
   "execution_count": 135,
   "metadata": {},
   "outputs": [],
   "source": [
    "def generate_batch(filename, start=0, batchsize=10, max_batches=10):\n",
    "\n",
    "    counter = 0\n",
    "    if max_batches == 0:\n",
    "        max_batches = 999999999\n",
    "\n",
    "    x = 'Hello'\n",
    "    batch_index = []\n",
    "    with open(filename) as current:\n",
    "        batch_index.append(current.tell())\n",
    "        counter += 1\n",
    "\n",
    "        while x and counter < max_batches:\n",
    "            counter += 1\n",
    "            for i in range(batchsize):\n",
    "                x = current.readline()\n",
    "\n",
    "            batch_index.append(current.tell())\n",
    "        return batch_index"
   ]
  },
  {
   "cell_type": "code",
   "execution_count": 136,
   "metadata": {},
   "outputs": [
    {
     "name": "stdout",
     "output_type": "stream",
     "text": [
      "75deaa6d-5555-4fd9-b7c4-de6373222861\n"
     ]
    }
   ],
   "source": [
    "func_uuid1 = fxc.register_function(generate_batch,\n",
    "                                   description=\"A funcx function for generating batch\")\n",
    "\n",
    "print(func_uuid1)"
   ]
  },
  {
   "cell_type": "code",
   "execution_count": 144,
   "metadata": {},
   "outputs": [
    {
     "name": "stdout",
     "output_type": "stream",
     "text": [
      "1cf19df8-cce0-4ca6-b218-7a005748195e\n"
     ]
    }
   ],
   "source": [
    "res1 = fxc.run(filename='//projects/CSC249ADCD01/zz/ScreenPilot/ena+db.can',\n",
    "               endpoint_id=endpoint_uuid,\n",
    "               function_id=func_uuid1)\n",
    "\n",
    "print(res1)"
   ]
  },
  {
   "cell_type": "code",
   "execution_count": 146,
   "metadata": {},
   "outputs": [
    {
     "name": "stdout",
     "output_type": "stream",
     "text": [
      "[0, 2321, 3153, 3480, 4006, 4429, 4950, 5357, 5994, 6402]\n"
     ]
    }
   ],
   "source": [
    "batch_index = fxc.get_result(res1)\n",
    "print(batch_index)"
   ]
  },
  {
   "cell_type": "code",
   "execution_count": 101,
   "metadata": {},
   "outputs": [],
   "source": [
    "def funcx_runner(index, filename, batchsize, index_start, index_end, workdir=None, out_file=None):\n",
    "    from candle_apps.candle_node_local import funcx_node_local\n",
    "    return funcx_node_local(filename, index, batchsize, index_start, index_end,\n",
    "                            workdir=workdir, out_file=out_file)"
   ]
  },
  {
   "cell_type": "code",
   "execution_count": 102,
   "metadata": {},
   "outputs": [
    {
     "name": "stdout",
     "output_type": "stream",
     "text": [
      "9734b381-7716-4a43-8ba4-3852703c8e3c\n"
     ]
    }
   ],
   "source": [
    "func_uuid2 = fxc.register_function(funcx_runner,\n",
    "                                   description=\"A funcx function for covid19\")\n",
    "\n",
    "print(func_uuid2)"
   ]
  },
  {
   "cell_type": "markdown",
   "metadata": {},
   "source": [
    "### We can use funcx's batch submit?"
   ]
  },
  {
   "cell_type": "code",
   "execution_count": 130,
   "metadata": {},
   "outputs": [
    {
     "name": "stdout",
     "output_type": "stream",
     "text": [
      "['3c852742-7c62-4fc2-b242-07448bef5d8e', '2ac60e2a-9e3a-4dde-818e-5718f28ad4ce', 'ed9ece9d-4841-40e6-a74a-d5ebfb466e2d', '267fbdf1-6bea-41e2-8f21-7ef8f014114f', '8d220133-99ef-467a-b4a5-e584de50d7fe', 'fac6a7d2-b2e3-4c3c-a1a9-260d49ca7f63', '3cb2fcac-cf2b-4fad-9407-cd9e00f15d4f', '23445866-098a-447e-8eed-632d935ddf93', '309d80b1-2113-47ba-8ef7-b7a061950330', 'e2cc5d3c-7c2e-4fce-bd3a-3b0ee18fbe16']\n"
     ]
    }
   ],
   "source": [
    "task_ids = []\n",
    "for idx in batch_index:\n",
    "    res = fxc.run(filename='/home/zzli/candle/ScreenPilot/ena+db.can',\n",
    "                  index=idx,\n",
    "                  batchsize=10,\n",
    "                  index_start=0,\n",
    "                  index_end=1000,\n",
    "                  workdir='/tmp/zzli/',\n",
    "                  out_file='/home/zzli/candle/ScreenPilot/data-{}'.format(idx),\n",
    "                  endpoint_id=endpoint_uuid,\n",
    "                  function_id=func_uuid2)\n",
    "    task_ids.append(res)\n",
    "\n",
    "print(task_ids)"
   ]
  },
  {
   "cell_type": "code",
   "execution_count": 132,
   "metadata": {},
   "outputs": [
    {
     "name": "stdout",
     "output_type": "stream",
     "text": [
      "{'3c852742-7c62-4fc2-b242-07448bef5d8e': {'pending': 'False', 'result': '/home/zzli/candle/ScreenPilot/data-0'}, '2ac60e2a-9e3a-4dde-818e-5718f28ad4ce': {'pending': 'False', 'result': '/home/zzli/candle/ScreenPilot/data-2321'}, 'ed9ece9d-4841-40e6-a74a-d5ebfb466e2d': {'pending': 'False', 'result': '/home/zzli/candle/ScreenPilot/data-3153'}, '267fbdf1-6bea-41e2-8f21-7ef8f014114f': {'pending': 'False', 'result': '/home/zzli/candle/ScreenPilot/data-3480'}, '8d220133-99ef-467a-b4a5-e584de50d7fe': {'pending': 'False', 'result': '/home/zzli/candle/ScreenPilot/data-4006'}, 'fac6a7d2-b2e3-4c3c-a1a9-260d49ca7f63': {'pending': 'False', 'result': '/home/zzli/candle/ScreenPilot/data-4429'}, '3cb2fcac-cf2b-4fad-9407-cd9e00f15d4f': {'pending': 'False', 'result': '/home/zzli/candle/ScreenPilot/data-4950'}, '23445866-098a-447e-8eed-632d935ddf93': {'pending': 'False', 'result': '/home/zzli/candle/ScreenPilot/data-5357'}, '309d80b1-2113-47ba-8ef7-b7a061950330': {'pending': 'False', 'result': '/home/zzli/candle/ScreenPilot/data-5994'}, 'e2cc5d3c-7c2e-4fce-bd3a-3b0ee18fbe16': {'pending': 'False', 'result': '/home/zzli/candle/ScreenPilot/data-6402'}}\n"
     ]
    }
   ],
   "source": [
    "x = fxc.get_batch_status(task_ids)\n",
    "print(x)\n",
    "try:\n",
    "    print(x[res[0]]['exception'].reraise())\n",
    "except:\n",
    "    pass"
   ]
  },
  {
   "cell_type": "code",
   "execution_count": null,
   "metadata": {},
   "outputs": [],
   "source": []
  }
 ],
 "metadata": {
  "kernelspec": {
   "display_name": "candle_py3.7",
   "language": "python",
   "name": "candle_py3.7"
  },
  "language_info": {
   "codemirror_mode": {
    "name": "ipython",
    "version": 3
   },
   "file_extension": ".py",
   "mimetype": "text/x-python",
   "name": "python",
   "nbconvert_exporter": "python",
   "pygments_lexer": "ipython3",
   "version": "3.7.6"
  }
 },
 "nbformat": 4,
 "nbformat_minor": 2
}
