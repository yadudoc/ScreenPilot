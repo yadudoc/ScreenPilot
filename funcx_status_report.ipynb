{
 "cells": [
  {
   "cell_type": "code",
   "execution_count": 172,
   "metadata": {},
   "outputs": [
    {
     "name": "stdout",
     "output_type": "stream",
     "text": [
      "https://funcx.org/api/v1 False\n"
     ]
    }
   ],
   "source": [
    "from funcx.sdk.client import FuncXClient\n",
    "import time\n",
    "\n",
    "\n",
    "fxc = FuncXClient()\n",
    "fxc.throttling_enabled = False\n",
    "print(fxc.base_url, fxc.throttling_enabled)"
   ]
  },
  {
   "cell_type": "markdown",
   "metadata": {},
   "source": [
    "# Functions to work with endpoints"
   ]
  },
  {
   "cell_type": "code",
   "execution_count": 188,
   "metadata": {},
   "outputs": [],
   "source": [
    "endpoints = ['709118de-1103-463f-8425-281eb93b55ff',   #Theta covid19\n",
    "             '67e95158-8bda-4b1f-a0ef-31a1626eba00',   #Ryan ep\n",
    "             'a59434ad-9a25-4378-9682-b5110e4eaa48',   #Ryan ep Theta queue (5 nodes)\n",
    "            ]"
   ]
  },
  {
   "cell_type": "code",
   "execution_count": 189,
   "metadata": {},
   "outputs": [],
   "source": [
    "def get_endpoints_status(endpoints):\n",
    "    endpoint_status = {}\n",
    "    idle_workers = {}\n",
    "    for ep in endpoints:\n",
    "        endpoint_status[ep] = fxc.get_endpoint_status(ep)[0]\n",
    "        idle_workers[ep] = endpoint_status[ep]['idle_workers']\n",
    "    return endpoint_status, idle_workers"
   ]
  },
  {
   "cell_type": "markdown",
   "metadata": {},
   "source": [
    "# fx functions"
   ]
  },
  {
   "cell_type": "code",
   "execution_count": 214,
   "metadata": {},
   "outputs": [],
   "source": [
    "def warm_endpoint(sleep_time=10):\n",
    "    \"\"\"A funcX function to warm the endpoint \n",
    "    and create workers\"\"\"\n",
    "    import time\n",
    "    time.sleep(sleep_time)\n",
    "    return 1"
   ]
  },
  {
   "cell_type": "code",
   "execution_count": 215,
   "metadata": {},
   "outputs": [
    {
     "name": "stdout",
     "output_type": "stream",
     "text": [
      "337b60b3-1ea5-4fec-b261-fa75487faa08\n"
     ]
    }
   ],
   "source": [
    "funcx_warm = fxc.register_function(warm_endpoint,\n",
    "                                   description=\"A funcx warming function for covid19\")\n",
    "\n",
    "print(funcx_warm)"
   ]
  },
  {
   "cell_type": "code",
   "execution_count": 204,
   "metadata": {},
   "outputs": [],
   "source": [
    "def funcx_runner(index, filename, batchsize, index_start, index_end, workdir=None, out_file=None):\n",
    "    \"\"\"funcX function to perform work\"\"\"\n",
    "    from candle_apps.candle_node_local import funcx_node_local\n",
    "    return funcx_node_local(filename, index, batchsize, index_start, index_end,\n",
    "                            workdir=workdir, out_file=out_file)"
   ]
  },
  {
   "cell_type": "code",
   "execution_count": 205,
   "metadata": {},
   "outputs": [
    {
     "name": "stdout",
     "output_type": "stream",
     "text": [
      "0d3379e3-3bd4-4876-8311-970fd0223bf1\n"
     ]
    }
   ],
   "source": [
    "func_uuid2 = fxc.register_function(funcx_runner,\n",
    "                                   description=\"A funcx function for covid19\")\n",
    "\n",
    "print(func_uuid2)"
   ]
  },
  {
   "cell_type": "markdown",
   "metadata": {},
   "source": [
    "# Gerate workloads"
   ]
  },
  {
   "cell_type": "code",
   "execution_count": 206,
   "metadata": {},
   "outputs": [],
   "source": [
    "def generate_batch(filename, start=0, batchsize=10, max_batches=10):\n",
    "    counter = 0\n",
    "    if max_batches == 0:\n",
    "        max_batches = 999999999\n",
    "\n",
    "    x = 'Hello'\n",
    "    batch_index = []\n",
    "    with open(filename) as current:\n",
    "        batch_index.append(current.tell())\n",
    "        counter += 1\n",
    "\n",
    "        while x and counter < max_batches:\n",
    "            counter += 1\n",
    "            for i in range(batchsize):\n",
    "                x = current.readline()\n",
    "\n",
    "            batch_index.append(current.tell())\n",
    "        return batch_index"
   ]
  },
  {
   "cell_type": "code",
   "execution_count": 207,
   "metadata": {},
   "outputs": [
    {
     "name": "stdout",
     "output_type": "stream",
     "text": [
      "d76e4283-d42d-4570-ac79-761ef1ea5c17\n"
     ]
    }
   ],
   "source": [
    "func_uuid1 = fxc.register_function(generate_batch,\n",
    "                                   description=\"A funcx function for generating batch\")\n",
    "\n",
    "print(func_uuid1)"
   ]
  },
  {
   "cell_type": "code",
   "execution_count": 264,
   "metadata": {},
   "outputs": [
    {
     "name": "stdout",
     "output_type": "stream",
     "text": [
      "d6ce0787-91c9-4cb0-8ddf-e64f10a9ba8f\n"
     ]
    }
   ],
   "source": [
    "res1 = fxc.run(filename='/home/rchard/src/covid19/ScreenPilot/ena+db.can',\n",
    "               endpoint_id='67e95158-8bda-4b1f-a0ef-31a1626eba00',\n",
    "               function_id=func_uuid1)\n",
    "\n",
    "print(res1)"
   ]
  },
  {
   "cell_type": "code",
   "execution_count": 265,
   "metadata": {},
   "outputs": [
    {
     "name": "stdout",
     "output_type": "stream",
     "text": [
      "[0, 2321, 3153, 3480, 4006, 4429, 4950, 5357, 5994, 6402]\n"
     ]
    }
   ],
   "source": [
    "batch_index = fxc.get_result(res1)\n",
    "print(batch_index)"
   ]
  },
  {
   "cell_type": "markdown",
   "metadata": {},
   "source": [
    "# Distribute work"
   ]
  },
  {
   "cell_type": "markdown",
   "metadata": {},
   "source": [
    "Define configs for the two eps"
   ]
  },
  {
   "cell_type": "code",
   "execution_count": 266,
   "metadata": {},
   "outputs": [],
   "source": [
    "configs = {'709118de-1103-463f-8425-281eb93b55ff': {'filename': '/home/zzli/candle/ScreenPilot/ena+db.can',\n",
    "                                                    'workdir': '/tmp/zzli/',\n",
    "                                                    'out_path': '/home/zzli/candle/ScreenPilot/'},\n",
    "           '67e95158-8bda-4b1f-a0ef-31a1626eba00': {'filename': '/home/rchard/src/covid19/ScreenPilot/ena+db.can',\n",
    "                                                    'workdir': '/tmp/rchard/',\n",
    "                                                    'out_path': '/home/rchard/src/covid19/ScreenPilot/'},\n",
    "           'a59434ad-9a25-4378-9682-b5110e4eaa48': {'filename': '/home/rchard/src/covid19/ScreenPilot/ena+db.can',\n",
    "                                                    'workdir': '/tmp/rchard/',\n",
    "                                                    'out_path': '/home/rchard/src/covid19/ScreenPilot/'},\n",
    "          }"
   ]
  },
  {
   "cell_type": "markdown",
   "metadata": {},
   "source": [
    "Submit workloads"
   ]
  },
  {
   "cell_type": "code",
   "execution_count": 267,
   "metadata": {},
   "outputs": [],
   "source": [
    "def submit_job(endpoint_uuid, idle_workers, idx):\n",
    "    exec_config = configs[endpoint_uuid]\n",
    "    res = fxc.run(filename=exec_config['filename'],\n",
    "              index=idx,\n",
    "              batchsize=10,\n",
    "              index_start=0,\n",
    "              index_end=1000,\n",
    "              workdir=exec_config['workdir'],\n",
    "              out_file=f'{exec_config[\"out_path\"]}data-{idx}',\n",
    "              endpoint_id=endpoint_uuid,\n",
    "              function_id=func_uuid2)\n",
    "    return res"
   ]
  },
  {
   "cell_type": "code",
   "execution_count": 268,
   "metadata": {},
   "outputs": [],
   "source": [
    "# stats, idle = get_endpoints_status(endpoints)"
   ]
  },
  {
   "cell_type": "code",
   "execution_count": null,
   "metadata": {},
   "outputs": [],
   "source": [
    "def warm_ep(endpoint_uuid, stats):\n",
    "    \"\"\"Check if current workers < max workers. \n",
    "    If so, launch warming tasks.\n",
    "    \n",
    "    Note: this assumes one worker per block.\n",
    "    \"\"\"\n",
    "    cur_nodes = stats[endpoint_uuid]['managers']\n",
    "    max_nodes = stats[endpoint_uuid]['max_blocks']\n",
    "    outstanding_tasks = stats[endpoint_uuid]['outstanding_tasks']['RAW']\n",
    "    \n",
    "    diff_nodes = max_nodes - cur_nodes\n",
    "    warming_jobs = outstanding_tasks - cur_nodes\n",
    "    # Deal with the case of no outstanding tasks    \n",
    "    if outstanding_tasks == 0:\n",
    "        warming_jobs = 0\n",
    "    to_warm = max_nodes - (cur_nodes + warming_jobs)\n",
    "    \n",
    "    print(f'max: {max_nodes}, cur: {cur_nodes}, warming: {warming_jobs}, to_warm {to_warm}')\n",
    "    if to_warm > 0:\n",
    "        for x in range(0, (to_warm)):\n",
    "            print(f\"Sending warming function to {endpoint_uuid}\")\n",
    "            res1 = fxc.run(sleep_time=10,\n",
    "                           endpoint_id=endpoint_uuid,\n",
    "                           function_id=funcx_warm)"
   ]
  },
  {
   "cell_type": "code",
   "execution_count": null,
   "metadata": {},
   "outputs": [],
   "source": [
    "def do_work(batch_index):\n",
    "    task_ids = []\n",
    "    # iterate over the workloads\n",
    "    while len(batch_index) > 0:\n",
    "        # get idle workers\n",
    "        stats, idle = get_endpoints_status(endpoints)\n",
    "        # submit jobs to each ep\n",
    "        for ep, idle_workers in idle.items():\n",
    "            # submit a job for each idle worker\n",
    "            for x in range(idle_workers):\n",
    "                try:\n",
    "                    idx = batch_index.pop()\n",
    "                    print(f'submitting {idx} to {ep}')\n",
    "                    task_ids.append(submit_job(ep, idle, idx))\n",
    "                except IndexError as e:\n",
    "                    print('Finished!')\n",
    "                    return task_ids\n",
    "            # now try warming the rest of the nodes\n",
    "            warm_ep(ep, stats)\n",
    "        time.sleep(60)\n",
    "    return task_ids"
   ]
  },
  {
   "cell_type": "code",
   "execution_count": null,
   "metadata": {},
   "outputs": [
    {
     "name": "stdout",
     "output_type": "stream",
     "text": [
      "submitting 4950 to 709118de-1103-463f-8425-281eb93b55ff\n",
      "0\n",
      "max: 1, cur: 1, warming: 0, to_warm 0\n",
      "submitting 4429 to 67e95158-8bda-4b1f-a0ef-31a1626eba00\n",
      "submitting 4006 to 67e95158-8bda-4b1f-a0ef-31a1626eba00\n",
      "0\n",
      "max: 1, cur: 1, warming: 0, to_warm 0\n",
      "30\n",
      "max: 5, cur: 0, warming: 30, to_warm -25\n",
      "submitting 3480 to 709118de-1103-463f-8425-281eb93b55ff\n",
      "0\n",
      "max: 1, cur: 1, warming: 0, to_warm 0\n",
      "submitting 3153 to 67e95158-8bda-4b1f-a0ef-31a1626eba00\n",
      "submitting 2321 to 67e95158-8bda-4b1f-a0ef-31a1626eba00\n",
      "0\n",
      "max: 1, cur: 1, warming: 0, to_warm 0\n",
      "30\n",
      "max: 5, cur: 0, warming: 30, to_warm -25\n"
     ]
    }
   ],
   "source": [
    "task_ids = do_work(batch_index)"
   ]
  },
  {
   "cell_type": "code",
   "execution_count": 243,
   "metadata": {},
   "outputs": [
    {
     "name": "stdout",
     "output_type": "stream",
     "text": [
      "['57a87c06-208c-4782-b975-c03b3c665340', '2d53ab85-591a-40d4-b4ee-d4664c3db858', '28333b44-6393-421c-bac7-f876e46f8277', '1e9c2ed3-235f-4c34-96a5-c49656e7bd4c', '049198ee-e268-473c-8b60-81895c9f45c0', '262bca59-bb0d-4270-bcb8-e66f71f7b752', '3da41d12-3532-4aee-9f31-55b49d625157', '0ea8b80d-5653-4da2-88d0-5fedd4d549db', '4c7e8860-8046-485b-a494-5a1b60a083f2', 'ecc72e85-7d19-4cef-a73a-cca8426bd875']\n"
     ]
    }
   ],
   "source": [
    "print(task_ids)"
   ]
  },
  {
   "cell_type": "code",
   "execution_count": 187,
   "metadata": {},
   "outputs": [
    {
     "name": "stdout",
     "output_type": "stream",
     "text": [
      "{'3f2debb3-9337-475b-b312-c3afbc2d2ca7': {'pending': 'False', 'exception': <parsl.app.errors.RemoteExceptionWrapper object at 0x7f4d693175f8>}, 'e6ee18a4-3752-45e9-a42d-9260aa067141': {'pending': 'False', 'result': '/home/rchard/src/covid19/ScreenPilot/data-5994'}, 'd8d30d94-ac6f-4222-83bf-5e3a84db63ef': {'pending': 'False', 'result': '/home/rchard/src/covid19/ScreenPilot/data-5357'}, '1807abd5-db2a-4ab8-a62c-a71f087a840a': {'pending': 'False', 'exception': <parsl.app.errors.RemoteExceptionWrapper object at 0x7f4d69317898>}, 'ed4846b4-e2a7-467b-8a1f-03f05c39e618': {'pending': 'False', 'result': '/home/rchard/src/covid19/ScreenPilot/data-4429'}, '3510869a-9b6a-4271-8137-223b87dffb3c': {'pending': 'False', 'result': '/home/rchard/src/covid19/ScreenPilot/data-4006'}, '71ce51ec-d183-4ae7-b3fe-508de001acd9': {'pending': 'False', 'exception': <parsl.app.errors.RemoteExceptionWrapper object at 0x7f4d69322ac8>}, '81926816-0f4e-4b3e-9b4d-fa76d670f8d0': {'pending': 'False', 'result': '/home/rchard/src/covid19/ScreenPilot/data-3153'}, 'ebbb5c4b-b269-4b63-a9fc-f9c5a0612b49': {'pending': 'False', 'result': '/home/rchard/src/covid19/ScreenPilot/data-2321'}}\n"
     ]
    }
   ],
   "source": [
    "x = fxc.get_batch_status(task_ids)\n",
    "print(x)\n",
    "try:\n",
    "    print(x[res[0]]['exception'].reraise())\n",
    "except:\n",
    "    pass"
   ]
  },
  {
   "cell_type": "code",
   "execution_count": null,
   "metadata": {},
   "outputs": [],
   "source": []
  }
 ],
 "metadata": {
  "kernelspec": {
   "display_name": "Python (funcx)",
   "language": "python",
   "name": "funcx"
  },
  "language_info": {
   "codemirror_mode": {
    "name": "ipython",
    "version": 3
   },
   "file_extension": ".py",
   "mimetype": "text/x-python",
   "name": "python",
   "nbconvert_exporter": "python",
   "pygments_lexer": "ipython3",
   "version": "3.6.8"
  }
 },
 "nbformat": 4,
 "nbformat_minor": 2
}
