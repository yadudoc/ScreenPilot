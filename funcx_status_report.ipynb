{
 "cells": [
  {
   "cell_type": "code",
   "execution_count": 1,
   "metadata": {},
   "outputs": [
    {
     "name": "stdout",
     "output_type": "stream",
     "text": [
      "Please paste the following URL in a browser:\n",
      "https://auth.globus.org/v2/oauth2/authorize?client_id=4cf29807-cf21-49ec-9443-ff9a3fb9f81c&redirect_uri=https%3A%2F%2Fauth.globus.org%2Fv2%2Fweb%2Fauth-code&scope=https%3A%2F%2Fauth.globus.org%2Fscopes%2Ffacd7ccc-c5f4-42aa-916b-a0e270e2c2a9%2Fall&state=_default&response_type=code&code_challenge=nCbLmcqPdF5r8VcgdozLKNgIJ-cYE1rNpH6GWGXK16M&code_challenge_method=S256&access_type=offline&prefill_named_grant=FuncX+SDK+Login\n",
      "Please Paste your Auth Code Below: \n",
      "320UyOyNEoRmKGmRdS4EWQEvTW0IvB\n",
      "https://funcx.org/api/v1 False\n"
     ]
    }
   ],
   "source": [
    "from funcx.sdk.client import FuncXClient\n",
    "import time\n",
    "\n",
    "\n",
    "fxc = FuncXClient()\n",
    "fxc.throttling_enabled = False\n",
    "print(fxc.base_url, fxc.throttling_enabled)"
   ]
  },
  {
   "cell_type": "markdown",
   "metadata": {},
   "source": [
    "# Functions to work with endpoints"
   ]
  },
  {
   "cell_type": "code",
   "execution_count": 135,
   "metadata": {},
   "outputs": [],
   "source": [
    "endpoints = ['709118de-1103-463f-8425-281eb93b55ff',   #Theta covid19\n",
    "             '67e95158-8bda-4b1f-a0ef-31a1626eba00',   #Ryan ep\n",
    "            ]"
   ]
  },
  {
   "cell_type": "code",
   "execution_count": 136,
   "metadata": {},
   "outputs": [],
   "source": [
    "def get_endpoints_status(endpoints):\n",
    "    endpoint_status = {}\n",
    "    idle_workers = {}\n",
    "    for ep in endpoints:\n",
    "        endpoint_status[ep] = fxc.get_endpoint_status(ep)[0]\n",
    "        idle_workers[ep] = endpoint_status[ep]['idle_workers']\n",
    "    return endpoint_status, idle_workers"
   ]
  },
  {
   "cell_type": "markdown",
   "metadata": {},
   "source": [
    "# fx functions"
   ]
  },
  {
   "cell_type": "code",
   "execution_count": 137,
   "metadata": {},
   "outputs": [],
   "source": [
    "def warm_endpoint():\n",
    "    \"\"\"A funcX function to warm the endpoint \n",
    "    and create workers\"\"\"\n",
    "    pass"
   ]
  },
  {
   "cell_type": "code",
   "execution_count": 138,
   "metadata": {},
   "outputs": [],
   "source": [
    "def funcx_runner(index, filename, batchsize, index_start, index_end, workdir=None, out_file=None):\n",
    "    \"\"\"funcX function to perform work\"\"\"\n",
    "    from candle_apps.candle_node_local import funcx_node_local\n",
    "    return funcx_node_local(filename, index, batchsize, index_start, index_end,\n",
    "                            workdir=workdir, out_file=out_file)"
   ]
  },
  {
   "cell_type": "code",
   "execution_count": 139,
   "metadata": {},
   "outputs": [
    {
     "name": "stdout",
     "output_type": "stream",
     "text": [
      "87eb7d7d-51ea-470a-bc59-101d4f5ffa6f\n"
     ]
    }
   ],
   "source": [
    "func_uuid2 = fxc.register_function(funcx_runner,\n",
    "                                   description=\"A funcx function for covid19\")\n",
    "\n",
    "print(func_uuid2)"
   ]
  },
  {
   "cell_type": "markdown",
   "metadata": {},
   "source": [
    "# Gerate workloads"
   ]
  },
  {
   "cell_type": "code",
   "execution_count": 140,
   "metadata": {},
   "outputs": [],
   "source": [
    "def generate_batch(filename, start=0, batchsize=10, max_batches=10):\n",
    "    counter = 0\n",
    "    if max_batches == 0:\n",
    "        max_batches = 999999999\n",
    "\n",
    "    x = 'Hello'\n",
    "    batch_index = []\n",
    "    with open(filename) as current:\n",
    "        batch_index.append(current.tell())\n",
    "        counter += 1\n",
    "\n",
    "        while x and counter < max_batches:\n",
    "            counter += 1\n",
    "            for i in range(batchsize):\n",
    "                x = current.readline()\n",
    "\n",
    "            batch_index.append(current.tell())\n",
    "        return batch_index"
   ]
  },
  {
   "cell_type": "code",
   "execution_count": 141,
   "metadata": {},
   "outputs": [
    {
     "name": "stdout",
     "output_type": "stream",
     "text": [
      "e8f34dac-3661-45a8-9b67-65f31bacd377\n"
     ]
    }
   ],
   "source": [
    "func_uuid1 = fxc.register_function(generate_batch,\n",
    "                                   description=\"A funcx function for generating batch\")\n",
    "\n",
    "print(func_uuid1)"
   ]
  },
  {
   "cell_type": "code",
   "execution_count": 164,
   "metadata": {},
   "outputs": [
    {
     "name": "stdout",
     "output_type": "stream",
     "text": [
      "9f3792b7-7388-4c00-b6fa-31d83b850d73\n"
     ]
    }
   ],
   "source": [
    "res1 = fxc.run(filename='/home/rchard/src/covid19/ScreenPilot/ena+db.can',\n",
    "               endpoint_id='67e95158-8bda-4b1f-a0ef-31a1626eba00',\n",
    "               function_id=func_uuid1)\n",
    "\n",
    "print(res1)"
   ]
  },
  {
   "cell_type": "code",
   "execution_count": 165,
   "metadata": {},
   "outputs": [
    {
     "name": "stdout",
     "output_type": "stream",
     "text": [
      "[0, 2321, 3153, 3480, 4006, 4429, 4950, 5357, 5994, 6402]\n"
     ]
    }
   ],
   "source": [
    "batch_index = fxc.get_result(res1)\n",
    "print(batch_index)"
   ]
  },
  {
   "cell_type": "markdown",
   "metadata": {},
   "source": [
    "# Distribute work"
   ]
  },
  {
   "cell_type": "markdown",
   "metadata": {},
   "source": [
    "Define configs for the two eps"
   ]
  },
  {
   "cell_type": "code",
   "execution_count": 166,
   "metadata": {},
   "outputs": [],
   "source": [
    "configs = {'709118de-1103-463f-8425-281eb93b55ff': {'filename': '/home/zzli/candle/ScreenPilot/ena+db.can',\n",
    "                                                    'workdir': '/tmp/zzli/',\n",
    "                                                    'out_path': '/home/zzli/candle/ScreenPilot/'},\n",
    "           '67e95158-8bda-4b1f-a0ef-31a1626eba00': {'filename': '/home/rchard/src/covid19/ScreenPilot/ena+db.can',\n",
    "                                                    'workdir': '/tmp/rchard/',\n",
    "                                                    'out_path': '/home/rchard/src/covid19/ScreenPilot/'}\n",
    "          }"
   ]
  },
  {
   "cell_type": "markdown",
   "metadata": {},
   "source": [
    "Submit workloads"
   ]
  },
  {
   "cell_type": "code",
   "execution_count": 167,
   "metadata": {},
   "outputs": [],
   "source": [
    "def submit_job(endpoint_uuid, idle_workers, idx):\n",
    "    exec_config = configs[endpoint_uuid]\n",
    "    res = fxc.run(filename=exec_config['filename'],\n",
    "              index=idx,\n",
    "              batchsize=10,\n",
    "              index_start=0,\n",
    "              index_end=1000,\n",
    "              workdir=exec_config['workdir'],\n",
    "              out_file=f'{exec_config[\"out_path\"]}data-{idx}',\n",
    "              endpoint_id=endpoint_uuid,\n",
    "              function_id=func_uuid2)\n",
    "    return res"
   ]
  },
  {
   "cell_type": "code",
   "execution_count": 168,
   "metadata": {},
   "outputs": [],
   "source": [
    "def do_work(batch_index):\n",
    "    task_ids = []\n",
    "    # iterate over the workloads\n",
    "    while len(batch_index) > 0:\n",
    "        # get idle workers\n",
    "        stats, idle = get_endpoints_status(endpoints)\n",
    "        # submit jobs to each ep\n",
    "        for ep, idle_workers in idle.items():\n",
    "            # submit a job for each idle worker\n",
    "            for x in range(idle_workers):\n",
    "                try:\n",
    "                    idx = batch_index.pop()\n",
    "                    print(f'submitting {idx} to {ep}')\n",
    "                    task_ids.append(submit_job(ep, idle, idx))\n",
    "                except IndexError as e:\n",
    "                    print('Finished!')\n",
    "                    return task_ids\n",
    "        time.sleep(5)\n",
    "    return task_ids"
   ]
  },
  {
   "cell_type": "code",
   "execution_count": 169,
   "metadata": {},
   "outputs": [
    {
     "name": "stdout",
     "output_type": "stream",
     "text": [
      "submitting 6402 to 709118de-1103-463f-8425-281eb93b55ff\n",
      "submitting 5994 to 67e95158-8bda-4b1f-a0ef-31a1626eba00\n",
      "submitting 5357 to 67e95158-8bda-4b1f-a0ef-31a1626eba00\n",
      "submitting 4950 to 709118de-1103-463f-8425-281eb93b55ff\n",
      "submitting 4429 to 67e95158-8bda-4b1f-a0ef-31a1626eba00\n",
      "submitting 4006 to 67e95158-8bda-4b1f-a0ef-31a1626eba00\n",
      "submitting 3480 to 709118de-1103-463f-8425-281eb93b55ff\n",
      "submitting 3153 to 67e95158-8bda-4b1f-a0ef-31a1626eba00\n",
      "submitting 2321 to 67e95158-8bda-4b1f-a0ef-31a1626eba00\n",
      "submitting 0 to 709118de-1103-463f-8425-281eb93b55ff\n",
      "Finished!\n"
     ]
    }
   ],
   "source": [
    "task_ids = do_work(batch_index)"
   ]
  },
  {
   "cell_type": "code",
   "execution_count": 170,
   "metadata": {},
   "outputs": [
    {
     "name": "stdout",
     "output_type": "stream",
     "text": [
      "['05a89995-5fee-4bb1-bd3f-d7463960c8cd', 'c0a24889-fa33-42c7-b7e4-c2520fc1b2cf', 'baf70191-68f7-499e-a66e-f385fe577f16', 'ce3cddec-e86f-478f-87f1-d101f851f1fa', 'b8edef88-f493-4d21-9df2-d12d73ea2b62', 'bd9a7112-5e19-4b5b-95ae-fa45b3418db1', 'a68b2475-bfce-4c07-a4ed-d90c774f2f1c', '8b147e5d-3c9c-4f0e-b930-6343d159e004', '874ad256-5ef1-44a8-b9b5-53b196060587', '9d22ab08-1d72-4937-9ad7-cd2cc11680cb']\n"
     ]
    }
   ],
   "source": [
    "print(task_ids)"
   ]
  },
  {
   "cell_type": "code",
   "execution_count": 171,
   "metadata": {},
   "outputs": [
    {
     "name": "stdout",
     "output_type": "stream",
     "text": [
      "{'05a89995-5fee-4bb1-bd3f-d7463960c8cd': {'pending': 'False', 'result': '/home/zzli/candle/ScreenPilot/data-6402'}, 'c0a24889-fa33-42c7-b7e4-c2520fc1b2cf': {'pending': 'False', 'result': '/home/rchard/src/covid19/ScreenPilot/data-5994'}, 'baf70191-68f7-499e-a66e-f385fe577f16': {'pending': 'False', 'result': '/home/rchard/src/covid19/ScreenPilot/data-5357'}, 'ce3cddec-e86f-478f-87f1-d101f851f1fa': {'pending': 'False', 'result': '/home/zzli/candle/ScreenPilot/data-4950'}, 'b8edef88-f493-4d21-9df2-d12d73ea2b62': {'pending': 'False', 'result': '/home/rchard/src/covid19/ScreenPilot/data-4429'}, 'bd9a7112-5e19-4b5b-95ae-fa45b3418db1': {'pending': 'False', 'result': '/home/rchard/src/covid19/ScreenPilot/data-4006'}, 'a68b2475-bfce-4c07-a4ed-d90c774f2f1c': {'pending': 'False', 'result': '/home/zzli/candle/ScreenPilot/data-3480'}, '8b147e5d-3c9c-4f0e-b930-6343d159e004': {'pending': 'False', 'result': '/home/rchard/src/covid19/ScreenPilot/data-3153'}, '874ad256-5ef1-44a8-b9b5-53b196060587': {'pending': 'False', 'result': '/home/rchard/src/covid19/ScreenPilot/data-2321'}, '9d22ab08-1d72-4937-9ad7-cd2cc11680cb': {'pending': 'False', 'result': '/home/zzli/candle/ScreenPilot/data-0'}}\n"
     ]
    }
   ],
   "source": [
    "x = fxc.get_batch_status(task_ids)\n",
    "print(x)\n",
    "try:\n",
    "    print(x[res[0]]['exception'].reraise())\n",
    "except:\n",
    "    pass"
   ]
  },
  {
   "cell_type": "code",
   "execution_count": null,
   "metadata": {},
   "outputs": [],
   "source": []
  }
 ],
 "metadata": {
  "kernelspec": {
   "display_name": "Python (funcx)",
   "language": "python",
   "name": "funcx"
  },
  "language_info": {
   "codemirror_mode": {
    "name": "ipython",
    "version": 3
   },
   "file_extension": ".py",
   "mimetype": "text/x-python",
   "name": "python",
   "nbconvert_exporter": "python",
   "pygments_lexer": "ipython3",
   "version": "3.6.8"
  }
 },
 "nbformat": 4,
 "nbformat_minor": 2
}
