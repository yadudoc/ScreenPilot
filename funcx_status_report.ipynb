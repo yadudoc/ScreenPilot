{
 "cells": [
  {
   "cell_type": "code",
   "execution_count": 1,
   "metadata": {},
   "outputs": [
    {
     "name": "stdout",
     "output_type": "stream",
     "text": [
      "https://funcx.org/api/v1 False\n"
     ]
    }
   ],
   "source": [
    "from funcx.sdk.client import FuncXClient\n",
    "import time\n",
    "\n",
    "\n",
    "fxc = FuncXClient()\n",
    "fxc.throttling_enabled = False\n",
    "print(fxc.base_url, fxc.throttling_enabled)"
   ]
  },
  {
   "cell_type": "markdown",
   "metadata": {},
   "source": [
    "# Functions to work with endpoints"
   ]
  },
  {
   "cell_type": "code",
   "execution_count": 2,
   "metadata": {},
   "outputs": [],
   "source": [
    "endpoints = ['709118de-1103-463f-8425-281eb93b55ff',   #Theta covid19\n",
    "             '67e95158-8bda-4b1f-a0ef-31a1626eba00',   #Ryan ep\n",
    "            ]"
   ]
  },
  {
   "cell_type": "code",
   "execution_count": 3,
   "metadata": {},
   "outputs": [],
   "source": [
    "def get_endpoints_status(endpoints):\n",
    "    endpoint_status = {}\n",
    "    idle_workers = {}\n",
    "    for ep in endpoints:\n",
    "        endpoint_status[ep] = fxc.get_endpoint_status(ep)[0]\n",
    "        idle_workers[ep] = endpoint_status[ep]['idle_workers']\n",
    "    return endpoint_status, idle_workers"
   ]
  },
  {
   "cell_type": "markdown",
   "metadata": {},
   "source": [
    "# fx functions"
   ]
  },
  {
   "cell_type": "code",
   "execution_count": 4,
   "metadata": {},
   "outputs": [],
   "source": [
    "def warm_endpoint():\n",
    "    \"\"\"A funcX function to warm the endpoint \n",
    "    and create workers\"\"\"\n",
    "    pass"
   ]
  },
  {
   "cell_type": "code",
   "execution_count": 5,
   "metadata": {},
   "outputs": [],
   "source": [
    "def funcx_runner(index, filename, batchsize, index_start, index_end, workdir=None, out_file=None):\n",
    "    \"\"\"funcX function to perform work\"\"\"\n",
    "    from candle_apps.candle_node_local import funcx_node_local\n",
    "    return funcx_node_local(filename, index, batchsize, index_start, index_end,\n",
    "                            workdir=workdir, out_file=out_file)"
   ]
  },
  {
   "cell_type": "code",
   "execution_count": 6,
   "metadata": {},
   "outputs": [
    {
     "name": "stdout",
     "output_type": "stream",
     "text": [
      "cf1b53e1-c2e6-4b0e-b9f6-4604509fb3b3\n"
     ]
    }
   ],
   "source": [
    "func_uuid2 = fxc.register_function(funcx_runner,\n",
    "                                   description=\"A funcx function for covid19\")\n",
    "\n",
    "print(func_uuid2)"
   ]
  },
  {
   "cell_type": "markdown",
   "metadata": {},
   "source": [
    "# Gerate workloads"
   ]
  },
  {
   "cell_type": "code",
   "execution_count": 7,
   "metadata": {},
   "outputs": [],
   "source": [
    "def generate_batch(filename, start=0, batchsize=10, max_batches=10):\n",
    "    counter = 0\n",
    "    if max_batches == 0:\n",
    "        max_batches = 999999999\n",
    "\n",
    "    x = 'Hello'\n",
    "    batch_index = []\n",
    "    with open(filename) as current:\n",
    "        batch_index.append(current.tell())\n",
    "        counter += 1\n",
    "\n",
    "        while x and counter < max_batches:\n",
    "            counter += 1\n",
    "            for i in range(batchsize):\n",
    "                x = current.readline()\n",
    "\n",
    "            batch_index.append(current.tell())\n",
    "        return batch_index"
   ]
  },
  {
   "cell_type": "code",
   "execution_count": 8,
   "metadata": {},
   "outputs": [
    {
     "name": "stdout",
     "output_type": "stream",
     "text": [
      "ae6bf2b4-f62d-456f-b5e1-7fbceedf8948\n"
     ]
    }
   ],
   "source": [
    "func_uuid1 = fxc.register_function(generate_batch,\n",
    "                                   description=\"A funcx function for generating batch\")\n",
    "\n",
    "print(func_uuid1)"
   ]
  },
  {
   "cell_type": "code",
   "execution_count": 9,
   "metadata": {},
   "outputs": [
    {
     "name": "stdout",
     "output_type": "stream",
     "text": [
      "f388d941-72db-47b6-ab1d-9d6587c44f57\n"
     ]
    }
   ],
   "source": [
    "res1 = fxc.run(filename='/home/rchard/src/covid19/ScreenPilot/ena+db.can',\n",
    "               endpoint_id='67e95158-8bda-4b1f-a0ef-31a1626eba00',\n",
    "               function_id=func_uuid1)\n",
    "\n",
    "print(res1)"
   ]
  },
  {
   "cell_type": "code",
   "execution_count": 10,
   "metadata": {},
   "outputs": [
    {
     "name": "stdout",
     "output_type": "stream",
     "text": [
      "[0, 2321, 3153, 3480, 4006, 4429, 4950, 5357, 5994, 6402]\n"
     ]
    }
   ],
   "source": [
    "batch_index = fxc.get_result(res1)\n",
    "print(batch_index)"
   ]
  },
  {
   "cell_type": "markdown",
   "metadata": {},
   "source": [
    "# Distribute work"
   ]
  },
  {
   "cell_type": "markdown",
   "metadata": {},
   "source": [
    "Define configs for the two eps"
   ]
  },
  {
   "cell_type": "code",
   "execution_count": 11,
   "metadata": {},
   "outputs": [],
   "source": [
    "configs = {'709118de-1103-463f-8425-281eb93b55ff': {'filename': '/home/zzli/candle/ScreenPilot/ena+db.can',\n",
    "                                                    'workdir': '/tmp/zzli/',\n",
    "                                                    'out_path': '/home/zzli/candle/ScreenPilot/'},\n",
    "           '67e95158-8bda-4b1f-a0ef-31a1626eba00': {'filename': '/home/rchard/src/covid19/ScreenPilot/ena+db.can',\n",
    "                                                    'workdir': '/tmp/rchard/',\n",
    "                                                    'out_path': '/home/rchard/src/covid19/ScreenPilot/'}\n",
    "          }"
   ]
  },
  {
   "cell_type": "markdown",
   "metadata": {},
   "source": [
    "Submit workloads"
   ]
  },
  {
   "cell_type": "code",
   "execution_count": 12,
   "metadata": {},
   "outputs": [],
   "source": [
    "def submit_job(endpoint_uuid, idle_workers, idx):\n",
    "    exec_config = configs[endpoint_uuid]\n",
    "    res = fxc.run(filename=exec_config['filename'],\n",
    "              index=idx,\n",
    "              batchsize=10,\n",
    "              index_start=0,\n",
    "              index_end=1000,\n",
    "              workdir=exec_config['workdir'],\n",
    "              out_file=f'{exec_config[\"out_path\"]}data-{idx}',\n",
    "              endpoint_id=endpoint_uuid,\n",
    "              function_id=func_uuid2)\n",
    "    return res"
   ]
  },
  {
   "cell_type": "code",
   "execution_count": 13,
   "metadata": {},
   "outputs": [],
   "source": [
    "def do_work(batch_index):\n",
    "    task_ids = []\n",
    "    while len(batch_index) > 0:\n",
    "        stats, idle = get_endpoints_status(endpoints)\n",
    "        for ep, idle_workers in idle.items():\n",
    "            for x in range(idle_workers):\n",
    "                try:\n",
    "                    idx = batch_index.pop()\n",
    "                    print(f'submitting {idx} to {ep}')\n",
    "                    task_ids.append(submit_job(ep, idle, idx))\n",
    "                except IndexError as e:\n",
    "                    print('Finished!')\n",
    "                    return task_ids\n",
    "        time.sleep(5)\n",
    "    return task_ids"
   ]
  },
  {
   "cell_type": "code",
   "execution_count": 14,
   "metadata": {},
   "outputs": [
    {
     "name": "stdout",
     "output_type": "stream",
     "text": [
      "submitting 6402 to 709118de-1103-463f-8425-281eb93b55ff\n",
      "submitting 5994 to 67e95158-8bda-4b1f-a0ef-31a1626eba00\n",
      "submitting 5357 to 67e95158-8bda-4b1f-a0ef-31a1626eba00\n",
      "submitting 4950 to 709118de-1103-463f-8425-281eb93b55ff\n",
      "submitting 4429 to 67e95158-8bda-4b1f-a0ef-31a1626eba00\n",
      "submitting 4006 to 67e95158-8bda-4b1f-a0ef-31a1626eba00\n",
      "submitting 3480 to 709118de-1103-463f-8425-281eb93b55ff\n",
      "submitting 3153 to 67e95158-8bda-4b1f-a0ef-31a1626eba00\n",
      "submitting 2321 to 67e95158-8bda-4b1f-a0ef-31a1626eba00\n",
      "submitting 0 to 709118de-1103-463f-8425-281eb93b55ff\n",
      "Finished!\n"
     ]
    }
   ],
   "source": [
    "task_ids = do_work(batch_index)"
   ]
  },
  {
   "cell_type": "code",
   "execution_count": 15,
   "metadata": {},
   "outputs": [
    {
     "name": "stdout",
     "output_type": "stream",
     "text": [
      "['d8c301d5-4ca3-41bd-a2b0-9a802d137d3a', 'ae89b6b3-edb3-49ff-a9de-9a6fc100b9b5', '3d3024b4-5632-4498-9658-19b9d63c05bf', 'd8eee917-12f6-4533-b21c-08651b6edbf8', 'c919e5af-41a0-4301-951f-f79d57b9848c', 'bd0b8c4e-e115-4c09-b59f-80be633bfccc', '6febd111-a6bd-4342-a1d3-aa6cad75233f', '7cbd9fe5-8ec8-4d68-89f2-05955878866d', 'a6af434a-c758-4cfd-acf5-9aaf177c171c', '105f71b3-6f58-47a1-86a5-8dc07cadefd1']\n"
     ]
    }
   ],
   "source": [
    "print(task_ids)"
   ]
  },
  {
   "cell_type": "code",
   "execution_count": 16,
   "metadata": {},
   "outputs": [
    {
     "name": "stdout",
     "output_type": "stream",
     "text": [
      "{'d8c301d5-4ca3-41bd-a2b0-9a802d137d3a': {'pending': 'False', 'result': '/home/zzli/candle/ScreenPilot/data-6402'}, 'ae89b6b3-edb3-49ff-a9de-9a6fc100b9b5': {'pending': 'False', 'result': '/home/rchard/src/covid19/ScreenPilot/data-5994'}, '3d3024b4-5632-4498-9658-19b9d63c05bf': {'pending': 'False', 'result': '/home/rchard/src/covid19/ScreenPilot/data-5357'}, 'd8eee917-12f6-4533-b21c-08651b6edbf8': {'pending': 'False', 'result': '/home/zzli/candle/ScreenPilot/data-4950'}, 'c919e5af-41a0-4301-951f-f79d57b9848c': {'pending': 'False', 'result': '/home/rchard/src/covid19/ScreenPilot/data-4429'}, 'bd0b8c4e-e115-4c09-b59f-80be633bfccc': {'pending': 'False', 'result': '/home/rchard/src/covid19/ScreenPilot/data-4006'}, '6febd111-a6bd-4342-a1d3-aa6cad75233f': {'pending': 'False', 'result': '/home/zzli/candle/ScreenPilot/data-3480'}, '7cbd9fe5-8ec8-4d68-89f2-05955878866d': {'pending': 'False', 'result': '/home/rchard/src/covid19/ScreenPilot/data-3153'}, 'a6af434a-c758-4cfd-acf5-9aaf177c171c': {'pending': 'False', 'result': '/home/rchard/src/covid19/ScreenPilot/data-2321'}}\n"
     ]
    }
   ],
   "source": [
    "x = fxc.get_batch_status(task_ids)\n",
    "print(x)\n",
    "try:\n",
    "    print(x[res[0]]['exception'].reraise())\n",
    "except:\n",
    "    pass"
   ]
  },
  {
   "cell_type": "code",
   "execution_count": null,
   "metadata": {},
   "outputs": [],
   "source": []
  }
 ],
 "metadata": {
  "kernelspec": {
   "display_name": "candle_py3.7",
   "language": "python",
   "name": "candle_py3.7"
  },
  "language_info": {
   "codemirror_mode": {
    "name": "ipython",
    "version": 3
   },
   "file_extension": ".py",
   "mimetype": "text/x-python",
   "name": "python",
   "nbconvert_exporter": "python",
   "pygments_lexer": "ipython3",
   "version": "3.7.6"
  }
 },
 "nbformat": 4,
 "nbformat_minor": 2
}
