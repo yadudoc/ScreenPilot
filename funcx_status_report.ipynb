{
 "cells": [
  {
   "cell_type": "code",
   "execution_count": 1,
   "metadata": {},
   "outputs": [
    {
     "name": "stdout",
     "output_type": "stream",
     "text": [
      "Please paste the following URL in a browser:\n",
      "https://auth.globus.org/v2/oauth2/authorize?client_id=4cf29807-cf21-49ec-9443-ff9a3fb9f81c&redirect_uri=https%3A%2F%2Fauth.globus.org%2Fv2%2Fweb%2Fauth-code&scope=https%3A%2F%2Fauth.globus.org%2Fscopes%2Ffacd7ccc-c5f4-42aa-916b-a0e270e2c2a9%2Fall&state=_default&response_type=code&code_challenge=nCbLmcqPdF5r8VcgdozLKNgIJ-cYE1rNpH6GWGXK16M&code_challenge_method=S256&access_type=offline&prefill_named_grant=FuncX+SDK+Login\n",
      "Please Paste your Auth Code Below: \n",
      "320UyOyNEoRmKGmRdS4EWQEvTW0IvB\n",
      "https://funcx.org/api/v1 False\n"
     ]
    }
   ],
   "source": [
    "from funcx.sdk.client import FuncXClient\n",
    "import time\n",
    "\n",
    "\n",
    "fxc = FuncXClient()\n",
    "fxc.throttling_enabled = False\n",
    "print(fxc.base_url, fxc.throttling_enabled)"
   ]
  },
  {
   "cell_type": "markdown",
   "metadata": {},
   "source": [
    "# Functions to work with endpoints"
   ]
  },
  {
   "cell_type": "code",
   "execution_count": 2,
   "metadata": {},
   "outputs": [],
   "source": [
    "endpoints = ['709118de-1103-463f-8425-281eb93b55ff',   #Theta covid19\n",
    "             '67e95158-8bda-4b1f-a0ef-31a1626eba00',   #Ryan ep\n",
    "            ]"
   ]
  },
  {
   "cell_type": "code",
   "execution_count": 35,
   "metadata": {},
   "outputs": [],
   "source": [
    "def get_endpoints_status(endpoints):\n",
    "    endpoint_status = {}\n",
    "    idle_workers = {}\n",
    "    for ep in endpoints:\n",
    "        endpoint_status[ep] = fxc.get_endpoint_status(ep)[0]\n",
    "        idle_workers[ep] = endpoint_status[ep]['idle_workers']\n",
    "    return endpoint_status, idle_workers"
   ]
  },
  {
   "cell_type": "markdown",
   "metadata": {},
   "source": [
    "# fx functions"
   ]
  },
  {
   "cell_type": "code",
   "execution_count": 34,
   "metadata": {},
   "outputs": [],
   "source": [
    "def warm_endpoint():\n",
    "    \"\"\"A funcX function to warm the endpoint \n",
    "    and create workers\"\"\"\n",
    "    pass"
   ]
  },
  {
   "cell_type": "code",
   "execution_count": 38,
   "metadata": {},
   "outputs": [],
   "source": [
    "def funcx_runner(index, filename, batchsize, index_start, index_end, workdir=None, out_file=None):\n",
    "    \"\"\"funcX function to perform work\"\"\"\n",
    "    from candle_apps.candle_node_local import funcx_node_local\n",
    "    return funcx_node_local(filename, index, batchsize, index_start, index_end,\n",
    "                            workdir=workdir, out_file=out_file)"
   ]
  },
  {
   "cell_type": "code",
   "execution_count": 83,
   "metadata": {},
   "outputs": [
    {
     "name": "stdout",
     "output_type": "stream",
     "text": [
      "c739e938-4dc0-488c-ac5d-d81fb808f636\n"
     ]
    }
   ],
   "source": [
    "func_uuid2 = fxc.register_function(funcx_runner,\n",
    "                                   description=\"A funcx function for covid19\")\n",
    "\n",
    "print(func_uuid2)"
   ]
  },
  {
   "cell_type": "markdown",
   "metadata": {},
   "source": [
    "# Gerate workloads"
   ]
  },
  {
   "cell_type": "code",
   "execution_count": 50,
   "metadata": {},
   "outputs": [],
   "source": [
    "def generate_batch(filename, start=0, batchsize=10, max_batches=10):\n",
    "    counter = 0\n",
    "    if max_batches == 0:\n",
    "        max_batches = 999999999\n",
    "\n",
    "    x = 'Hello'\n",
    "    batch_index = []\n",
    "    with open(filename) as current:\n",
    "        batch_index.append(current.tell())\n",
    "        counter += 1\n",
    "\n",
    "        while x and counter < max_batches:\n",
    "            counter += 1\n",
    "            for i in range(batchsize):\n",
    "                x = current.readline()\n",
    "\n",
    "            batch_index.append(current.tell())\n",
    "        return batch_index"
   ]
  },
  {
   "cell_type": "code",
   "execution_count": 51,
   "metadata": {},
   "outputs": [
    {
     "name": "stdout",
     "output_type": "stream",
     "text": [
      "0cf5044f-0b5e-4bcd-a102-2eb48974381d\n"
     ]
    }
   ],
   "source": [
    "func_uuid1 = fxc.register_function(generate_batch,\n",
    "                                   description=\"A funcx function for generating batch\")\n",
    "\n",
    "print(func_uuid1)"
   ]
  },
  {
   "cell_type": "code",
   "execution_count": 65,
   "metadata": {},
   "outputs": [
    {
     "name": "stdout",
     "output_type": "stream",
     "text": [
      "396ac761-9def-44e0-a5c7-f4a7432d48af\n"
     ]
    }
   ],
   "source": [
    "res1 = fxc.run(filename='/home/rchard/src/covid19/ScreenPilot/ena+db.can',\n",
    "               endpoint_id='67e95158-8bda-4b1f-a0ef-31a1626eba00',\n",
    "               function_id=func_uuid1)\n",
    "\n",
    "print(res1)"
   ]
  },
  {
   "cell_type": "code",
   "execution_count": 66,
   "metadata": {},
   "outputs": [
    {
     "name": "stdout",
     "output_type": "stream",
     "text": [
      "[0, 2321, 3153, 3480, 4006, 4429, 4950, 5357, 5994, 6402]\n"
     ]
    }
   ],
   "source": [
    "batch_index = fxc.get_result(res1)\n",
    "print(batch_index)"
   ]
  },
  {
   "cell_type": "markdown",
   "metadata": {},
   "source": [
    "# Distribute work"
   ]
  },
  {
   "cell_type": "code",
   "execution_count": 69,
   "metadata": {},
   "outputs": [],
   "source": [
    "stats, idle = get_endpoints_status(endpoints)"
   ]
  },
  {
   "cell_type": "code",
   "execution_count": 70,
   "metadata": {},
   "outputs": [
    {
     "data": {
      "text/plain": [
       "{'709118de-1103-463f-8425-281eb93b55ff': 1,\n",
       " '67e95158-8bda-4b1f-a0ef-31a1626eba00': 2}"
      ]
     },
     "execution_count": 70,
     "metadata": {},
     "output_type": "execute_result"
    }
   ],
   "source": [
    "idle"
   ]
  },
  {
   "cell_type": "markdown",
   "metadata": {},
   "source": [
    "Define configs for the two eps"
   ]
  },
  {
   "cell_type": "code",
   "execution_count": 56,
   "metadata": {},
   "outputs": [],
   "source": [
    "configs = {'709118de-1103-463f-8425-281eb93b55ff': {'filename': '/home/zzli/candle/ScreenPilot/ena+db.can',\n",
    "                                                    'workdir': '/tmp/zzli/',\n",
    "                                                    'out_path': '/home/zzli/candle/ScreenPilot/'},\n",
    "           '67e95158-8bda-4b1f-a0ef-31a1626eba00': {'filename': '/home/rchard/src/covid19/ScreenPilot/ena+db.can',\n",
    "                                                    'workdir': '/tmp/rchard/',\n",
    "                                                    'out_path': '/home/rchard/src/covid19/ScreenPilot/'}\n",
    "          }"
   ]
  },
  {
   "cell_type": "markdown",
   "metadata": {},
   "source": [
    "Submit workloads"
   ]
  },
  {
   "cell_type": "code",
   "execution_count": 93,
   "metadata": {},
   "outputs": [],
   "source": [
    "def submit_work(endpoint_uuid, idle_workers, idx):\n",
    "    exec_config = configs[ep]\n",
    "    res = fxc.run(filename=exec_config['filename'],\n",
    "              index=idx,\n",
    "              batchsize=10,\n",
    "              index_start=0,\n",
    "              index_end=1000,\n",
    "              workdir=exec_config['workdir'],\n",
    "              out_file=f'{exec_config[\"out_path\"]}data-{idx}',\n",
    "              endpoint_id=endpoint_uuid,\n",
    "              function_id=func_uuid2)\n",
    "    return res"
   ]
  },
  {
   "cell_type": "code",
   "execution_count": 94,
   "metadata": {},
   "outputs": [
    {
     "name": "stdout",
     "output_type": "stream",
     "text": [
      "submitting 3480 to 709118de-1103-463f-8425-281eb93b55ff\n",
      "submitting 3153 to 67e95158-8bda-4b1f-a0ef-31a1626eba00\n",
      "submitting 2321 to 67e95158-8bda-4b1f-a0ef-31a1626eba00\n"
     ]
    }
   ],
   "source": [
    "task_ids = []\n",
    "for ep, idle_workers in idle.items():\n",
    "    for x in range(idle_workers):\n",
    "        idx = batch_index.pop()\n",
    "        print(f'submitting {idx} to {ep}')\n",
    "        task_ids.append(submit_work(ep, idle, idx))"
   ]
  },
  {
   "cell_type": "code",
   "execution_count": 95,
   "metadata": {},
   "outputs": [
    {
     "name": "stdout",
     "output_type": "stream",
     "text": [
      "['124b10ab-c2a1-4445-af62-407da76e57fb', '7b755b9e-981f-45ee-9dc6-f9f28646417f', 'b3630c49-91cb-4972-b4fc-421b8e1a7cdd']\n"
     ]
    }
   ],
   "source": [
    "print(task_ids)"
   ]
  },
  {
   "cell_type": "code",
   "execution_count": 96,
   "metadata": {},
   "outputs": [
    {
     "name": "stdout",
     "output_type": "stream",
     "text": [
      "{'124b10ab-c2a1-4445-af62-407da76e57fb': {'pending': 'False', 'result': '/home/zzli/candle/ScreenPilot/data-3480'}, '7b755b9e-981f-45ee-9dc6-f9f28646417f': {'pending': 'False', 'result': '/home/rchard/src/covid19/ScreenPilot/data-3153'}, 'b3630c49-91cb-4972-b4fc-421b8e1a7cdd': {'pending': 'False', 'result': '/home/rchard/src/covid19/ScreenPilot/data-2321'}}\n"
     ]
    }
   ],
   "source": [
    "x = fxc.get_batch_status(task_ids)\n",
    "print(x)\n",
    "try:\n",
    "    print(x[res[0]]['exception'].reraise())\n",
    "except:\n",
    "    pass"
   ]
  },
  {
   "cell_type": "code",
   "execution_count": null,
   "metadata": {},
   "outputs": [],
   "source": []
  }
 ],
 "metadata": {
  "kernelspec": {
   "display_name": "Python (funcx)",
   "language": "python",
   "name": "funcx"
  },
  "language_info": {
   "codemirror_mode": {
    "name": "ipython",
    "version": 3
   },
   "file_extension": ".py",
   "mimetype": "text/x-python",
   "name": "python",
   "nbconvert_exporter": "python",
   "pygments_lexer": "ipython3",
   "version": "3.6.8"
  }
 },
 "nbformat": 4,
 "nbformat_minor": 2
}
